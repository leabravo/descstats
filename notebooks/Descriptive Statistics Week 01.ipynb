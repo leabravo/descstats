{
 "cells": [
  {
   "cell_type": "markdown",
   "metadata": {},
   "source": [
    "Business Oriented Descriptive Statistics\n",
    "===\n",
    "\n",
    "Foreword:\n",
    "---\n",
    "\n",
    "To be written :3\n",
    "\n",
    "Imports:\n",
    "---\n",
    "\n",
    "Below are the basic imports which we are going to use, please make note that in order for the charts to show up in the notebook we need to type the following line at the very beginning **\"%matplotlib inline\"**"
   ]
  },
  {
   "cell_type": "code",
   "execution_count": 1,
   "metadata": {
    "collapsed": false
   },
   "outputs": [],
   "source": [
    "%matplotlib inline\n",
    "import requests\n",
    "import numpy as np\n",
    "import pandas as pd\n",
    "import matplotlib.pyplot as plt\n",
    "from functools import reduce\n",
    "from io import StringIO"
   ]
  },
  {
   "cell_type": "markdown",
   "metadata": {},
   "source": [
    "Load Data:\n",
    "---\n",
    "\n",
    "We will use the **requests** library to fetch the data from Yahoo Fiance. The only thing we need is the URL which gets us the data we require, in this case the daily historical data for GE for the period between 01/04/2016 and 06/22/2016. Once we have the raw data we can get its text property and pass it to the **StringIO** method and fake the behavior of an actual csv file which is required by the **read_csv method** from the pandas library."
   ]
  },
  {
   "cell_type": "code",
   "execution_count": 2,
   "metadata": {
    "collapsed": false
   },
   "outputs": [],
   "source": [
    "ex1_raw_data = requests.get('http://chart.finance.yahoo.com/table.csv?s=GE&a=0&b=4&c=2016&d=6&e=22&f=2016&g=d&ignore=.csv')\n",
    "ex1_data = pd.read_csv(StringIO(ex1_raw_data.text),\n",
    "                      sep=',',\n",
    "                      encoding='latin1',\n",
    "                      parse_dates=['Date'],\n",
    "                      dayfirst=True,\n",
    "                      index_col='Date').sort_index()"
   ]
  },
  {
   "cell_type": "markdown",
   "metadata": {},
   "source": [
    "Average:\n",
    "---\n",
    "\n",
    "The **average** or **sample mean** (when the data comes from a sample) is the summation of the array's values divided by the number of observations (the size of the sample **n**)\n",
    "\n",
    "$$\\bar{X} = \\frac{\\sum_{i=1}^n X_i}n$$\n",
    "\n",
    "First we have to get the value for **n**. We will use the built in function **len()** in comination with the DataFrame's index attribute passed as a parameter. For the sum of the values we will use the built-in **sum()** method or we could go all-out fancy mode and use a lambda function passed as a parameter to the reduce function which we **need to import from the functools package**."
   ]
  },
  {
   "cell_type": "code",
   "execution_count": 3,
   "metadata": {
    "collapsed": false
   },
   "outputs": [
    {
     "name": "stdout",
     "output_type": "stream",
     "text": [
      "Mean without Numpy: 29.5182273143\n"
     ]
    }
   ],
   "source": [
    "n = len(ex1_data.index)\n",
    "acum = sum(ex1_data['Adj Close'])\n",
    "acum = reduce(lambda x, y: x + y, ex1_data['Adj Close'])\n",
    "\n",
    "avg = acum/n\n",
    "print('Mean without Numpy:', avg)"
   ]
  },
  {
   "cell_type": "code",
   "execution_count": 4,
   "metadata": {
    "collapsed": false
   },
   "outputs": [
    {
     "name": "stdout",
     "output_type": "stream",
     "text": [
      "Mean with Numpy: 29.5182273143\n",
      "29.5431\n",
      "29.5431\n"
     ]
    }
   ],
   "source": [
    "print('Mean with Numpy:', np.mean(ex1_data['Adj Close']))\n",
    "\n",
    "\n",
    "x, y = int(n/2 + (n % 2 - 1)), int(n/2 - (n % 2 - 1))\n",
    "\n",
    "if x == y:\n",
    "    print(np.mean(sorted(ex1_data['Adj Close'])[x]))\n",
    "else:\n",
    "    print(np.mean(sorted(ex1_data['Adj Close'])[x:y]))\n",
    "\n",
    "print(np.median(ex1_data['Adj Close']))"
   ]
  }
 ],
 "metadata": {
  "kernelspec": {
   "display_name": "Python 3",
   "language": "python",
   "name": "python3"
  },
  "language_info": {
   "codemirror_mode": {
    "name": "ipython",
    "version": 3
   },
   "file_extension": ".py",
   "mimetype": "text/x-python",
   "name": "python",
   "nbconvert_exporter": "python",
   "pygments_lexer": "ipython3",
   "version": "3.5.2"
  }
 },
 "nbformat": 4,
 "nbformat_minor": 2
}
