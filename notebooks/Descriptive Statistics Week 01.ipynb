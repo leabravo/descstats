{
 "cells": [
  {
   "cell_type": "markdown",
   "metadata": {},
   "source": [
    "Business Oriented Descriptive Statistics\n",
    "===\n",
    "\n",
    "Foreword:\n",
    "---\n",
    "\n",
    "To be written :3\n",
    "\n",
    "Imports:\n",
    "---\n",
    "\n",
    "Below are the basic imports which we are going to use, please make note that in order for the charts to show up in the notebook we need to type the following line at the very beginning **\"%matplotlib inline\"**"
   ]
  },
  {
   "cell_type": "code",
   "execution_count": 1,
   "metadata": {
    "collapsed": false
   },
   "outputs": [],
   "source": [
    "%matplotlib inline\n",
    "import requests\n",
    "import numpy as np\n",
    "import pandas as pd\n",
    "import matplotlib.pyplot as plt\n",
    "from functools import reduce\n",
    "from io import StringIO\n",
    "\n",
    "# Benchmarking\n",
    "from time import time"
   ]
  },
  {
   "cell_type": "markdown",
   "metadata": {},
   "source": [
    "Load Data:\n",
    "---\n",
    "\n",
    "We will use the **requests** library to fetch the data from Yahoo Fiance. The only thing we need is the URL which gets us the data we require, in this case the daily historical data for GE for the period between 01/04/2016 and 06/22/2016. Once we have the raw data we can get its text property and pass it to the **StringIO** method and fake the behavior of an actual csv file which is required by the **read_csv method** from the pandas library."
   ]
  },
  {
   "cell_type": "code",
   "execution_count": 2,
   "metadata": {
    "collapsed": false
   },
   "outputs": [],
   "source": [
    "ex1_raw_data = requests.get('http://chart.finance.yahoo.com/table.csv?s=GE&a=0&b=4&c=2016&d=6&e=22&f=2016&g=d&ignore=.csv')\n",
    "ex1_data = pd.read_csv(StringIO(ex1_raw_data.text),\n",
    "                      sep=',',\n",
    "                      encoding='latin1',\n",
    "                      parse_dates=['Date'],\n",
    "                      dayfirst=True,\n",
    "                      index_col='Date').sort_index()"
   ]
  },
  {
   "cell_type": "markdown",
   "metadata": {},
   "source": [
    "Average:\n",
    "---\n",
    "\n",
    "The **average** or **sample mean** (when the data comes from a sample) is the summation of the array's values divided by the number of observations (the size of the sample **n**)\n",
    "\n",
    "$$\\bar{X} = \\frac{\\sum_{i=1}^n X_i}n$$\n",
    "\n",
    "First we have to get the value for **n**. We will use the built in function **len()** in comination with the DataFrame's index attribute passed as a parameter. For the sum of the values we will use the built-in **sum()** method or we could go all-out fancy mode and use a lambda function passed as a parameter to the reduce function which we **need to import from the functools package**."
   ]
  },
  {
   "cell_type": "code",
   "execution_count": 3,
   "metadata": {
    "collapsed": false
   },
   "outputs": [
    {
     "name": "stdout",
     "output_type": "stream",
     "text": [
      "Mean without Numpy: 29.5182273143 in 0.0006916522979736328 seconds.\n"
     ]
    }
   ],
   "source": [
    "start = time()\n",
    "n = len(ex1_data.index)\n",
    "#acum = sum(ex1_data['Adj Close'])\n",
    "acum = reduce(lambda x, y: x + y, ex1_data['Adj Close'])\n",
    "avg = acum/n\n",
    "total = time() - start\n",
    "\n",
    "print('Mean without Numpy:', avg, 'in', total, 'seconds.')"
   ]
  },
  {
   "cell_type": "markdown",
   "metadata": {},
   "source": [
    "Thankfully Numpy comes with an implementation of the **mean** function which can also work with multidimensional arrays (matrices)"
   ]
  },
  {
   "cell_type": "code",
   "execution_count": 4,
   "metadata": {
    "collapsed": false
   },
   "outputs": [
    {
     "name": "stdout",
     "output_type": "stream",
     "text": [
      "Mean with Numpy: 29.5182273143 in 0.0006916522979736328 seconds.\n"
     ]
    }
   ],
   "source": [
    "start = time()\n",
    "avg = np.mean(ex1_data['Adj Close'])\n",
    "print('Mean with Numpy:', avg, 'in', total, 'seconds.')\n",
    "total = time() - start"
   ]
  },
  {
   "cell_type": "markdown",
   "metadata": {},
   "source": [
    "Median:\n",
    "---\n",
    "\n",
    "If we sort our data in an ascending or descending order, the record which takes the center of the distribution is called the **median**. If our set contains an odd number of items we only have **one item that represents the median** and we can just pick it out from our list, however if our dataset has an even number of observations then we have to take the two items that split the set in an equal amount of items both left and righ, those numbers being $X_{n/2}$ and $X_{n/2+1}$ and **perform the mean with those 2 observations**.\n",
    "Here is one gotcha though. In Python and many other languages the arrays are zero indexed and that means the first item starts at the position zero. If we try to get the $X_{n/2}$ item in Python we will fetch the element placed after the one in the middle and that is wrong. $X_{(n-1)/2}$ is the way to go.\n",
    "Gotcha number 2! Python slices do not include the last item in the selection. This means if you select items [1:3] you are actually getting items 1 and 2. We can represent this as an interval with an inclusive beginning and an exclusive ending $[1,3)$"
   ]
  },
  {
   "cell_type": "code",
   "execution_count": 5,
   "metadata": {
    "collapsed": false
   },
   "outputs": [
    {
     "name": "stdout",
     "output_type": "stream",
     "text": [
      "Median without Numpy: 29.5431 in 0.000194549560546875 seconds\n"
     ]
    }
   ],
   "source": [
    "start = time()\n",
    "# Check parity \n",
    "x, y = int(n/2 + (n % 2 - 1)), int(n/2 - (n % 2 - 1))\n",
    "if x == y:\n",
    "    total = time() - start\n",
    "    print('Median without Numpy:', np.mean(sorted(ex1_data['Adj Close'])[x]), 'in', total, 'seconds')\n",
    "else:\n",
    "    total = time() - start\n",
    "    print('Median without Numpy:', np.mean(sorted(ex1_data['Adj Close'])[x:y]), 'in', total, 'seconds')\n"
   ]
  },
  {
   "cell_type": "markdown",
   "metadata": {},
   "source": [
    "Once again Numpy provides a method for making the whole thing a lot **less verbose**."
   ]
  },
  {
   "cell_type": "code",
   "execution_count": 6,
   "metadata": {
    "collapsed": false
   },
   "outputs": [
    {
     "name": "stdout",
     "output_type": "stream",
     "text": [
      "Median with Numpy: 29.5431 in 0.0004284381866455078 seconds\n"
     ]
    }
   ],
   "source": [
    "start = time()\n",
    "median = np.median(ex1_data['Adj Close'])\n",
    "total = time() - start\n",
    "\n",
    "print('Median with Numpy:', median, 'in', total, 'seconds')"
   ]
  },
  {
   "cell_type": "markdown",
   "metadata": {},
   "source": [
    "Outliers:\n",
    "---\n",
    "\n",
    "If we plot a **histogram** of our data, we can see that it has a pretty **normal distribution** (more on this later). This characteristic wil make the Average and the Median to be pretty similar. However if one of the elements in the data has an extremely high or low value it will make the Average and the Mean to grow considerably distand from each other."
   ]
  },
  {
   "cell_type": "code",
   "execution_count": 7,
   "metadata": {
    "collapsed": false
   },
   "outputs": [
    {
     "name": "stdout",
     "output_type": "stream",
     "text": [
      "Mean: 29.5182273143 Median: 29.5431\n"
     ]
    },
    {
     "data": {
      "text/plain": [
       "array([[<matplotlib.axes._subplots.AxesSubplot object at 0x7f809ae3b6d8>]], dtype=object)"
      ]
     },
     "execution_count": 7,
     "metadata": {},
     "output_type": "execute_result"
    },
    {
     "data": {
      "image/png": "[encoded data removed]",
      "text/plain": [
       "<matplotlib.figure.Figure at 0x7f809b79ea90>"
      ]
     },
     "metadata": {},
     "output_type": "display_data"
    },
    {
     "data": {
      "image/png": "[encoded data removed]",
      "text/plain": [
       "<matplotlib.figure.Figure at 0x7f809ae8a240>"
      ]
     },
     "metadata": {},
     "output_type": "display_data"
    }
   ],
   "source": [
    "print('Mean:', avg, 'Median:', median)\n",
    "ex1_data['Adj Close'].hist()\n",
    "# Overwriting the variables with tests\n",
    "test_arr = ex1_data['Adj Close']\n",
    "test_arr = test_arr.append(pd.DataFrame([20 for i in range(30)]))\n",
    "test_arr.hist()"
   ]
  },
  {
   "cell_type": "code",
   "execution_count": null,
   "metadata": {
    "collapsed": true
   },
   "outputs": [],
   "source": []
  }
 ],
 "metadata": {
  "kernelspec": {
   "display_name": "Python 3",
   "language": "python",
   "name": "python3"
  },
  "language_info": {
   "codemirror_mode": {
    "name": "ipython",
    "version": 3
   },
   "file_extension": ".py",
   "mimetype": "text/x-python",
   "name": "python",
   "nbconvert_exporter": "python",
   "pygments_lexer": "ipython3",
   "version": "3.5.2"
  }
 },
 "nbformat": 4,
 "nbformat_minor": 2
}
