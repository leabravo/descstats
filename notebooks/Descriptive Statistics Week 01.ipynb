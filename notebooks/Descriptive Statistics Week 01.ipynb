{
 "cells": [
  {
   "cell_type": "markdown",
   "metadata": {},
   "source": [
    "Business Oriented Descriptive Statistics\n",
    "===\n",
    "\n",
    "Foreword:\n",
    "---\n",
    "\n",
    "To be written :3\n",
    "\n",
    "Imports:\n",
    "---\n",
    "\n",
    "Below are the basic imports which we are going to use, please make note that in order for the charts to show up in the notebook we need to type the following line at the very beginning **\"%matplotlib inline\"**"
   ]
  },
  {
   "cell_type": "code",
   "execution_count": 34,
   "metadata": {
    "collapsed": false
   },
   "outputs": [],
   "source": [
    "%matplotlib inline\n",
    "import requests\n",
    "import numpy as np\n",
    "import pandas as pd\n",
    "import matplotlib.pyplot as plt\n",
    "\n",
    "from io import StringIO\n",
    "from time import time\n",
    "from datetime import date"
   ]
  },
  {
   "cell_type": "markdown",
   "metadata": {},
   "source": [
    "Load Data:\n",
    "---\n",
    "\n",
    "We will use the **requests** library to fetch the data from Yahoo Fiance. The only thing we need is the URL which gets us the data we require, in this case the daily historical data for GE for the period between 01/04/2016 and 06/22/2016. Once we have the raw data we can get its text property and pass it to the **StringIO** method and fake the behavior of an actual csv file which is required by the **read_csv method** from the pandas library."
   ]
  },
  {
   "cell_type": "code",
   "execution_count": 2,
   "metadata": {
    "collapsed": false
   },
   "outputs": [],
   "source": [
    "ex1_raw_data = requests.get('http://chart.finance.yahoo.com/table.csv?s=GE&a=0&b=4&c=2016&d=6&e=22&f=2016&g=d&ignore=.csv')\n",
    "ex1_data = pd.read_csv(StringIO(ex1_raw_data.text),\n",
    "                      sep=',',\n",
    "                      encoding='latin1',\n",
    "                      parse_dates=['Date'],\n",
    "                      dayfirst=True,\n",
    "                      index_col='Date').sort_index()"
   ]
  },
  {
   "cell_type": "markdown",
   "metadata": {},
   "source": [
    "# Measurements of Central Tendency\n",
    "\n",
    "The **measures of central tendency** are statistical measurements that allow us to summarize in a single value the central value for a given dataset.\n",
    "\n",
    "## Average:\n",
    "\n",
    "\n",
    "The **average** or **sample mean** (when the data comes from a sample) is the summation of the array's values divided by the number of observations (the size of the sample **n**)\n",
    "\n",
    "$$\\bar{X} = \\frac{\\sum_{i=1}^n X_i}n$$\n",
    "\n",
    "First we have to get the value for **n**. We will use the built in function **len()** in comination with the DataFrame's index attribute passed as a parameter. For the sum of the values we will use the built-in **sum()** method or we could go all-out fancy mode and use a lambda function passed as a parameter to the reduce function which we **need to import from the functools package**."
   ]
  },
  {
   "cell_type": "markdown",
   "metadata": {},
   "source": [
    "Thankfully Numpy comes with an implementation of the **mean** function which can also work with multidimensional arrays (matrices)"
   ]
  },
  {
   "cell_type": "code",
   "execution_count": 3,
   "metadata": {
    "collapsed": false
   },
   "outputs": [
    {
     "name": "stdout",
     "output_type": "stream",
     "text": [
      "Mean with Numpy: 29.2846511357 in 0.0006670951843261719 seconds.\n"
     ]
    }
   ],
   "source": [
    "start = time()\n",
    "\n",
    "avg = np.mean(ex1_data['Adj Close'])\n",
    "\n",
    "total = time() - start\n",
    "\n",
    "print('Mean with Numpy:', avg, 'in', total, 'seconds.')"
   ]
  },
  {
   "cell_type": "markdown",
   "metadata": {},
   "source": [
    "## Median:\n",
    "\n",
    "If we sort our data in an ascending or descending order, the record which takes the center of the distribution is called the **median**. If our set contains an odd number of items we only have **one item that represents the median** and we can just pick it out from our list, however if our dataset has an even number of observations then we have to take the two items that split the set in an equal amount of items both left and righ, those numbers being $X_{n/2}$ and $X_{(n/2)+1}$ and **perform the mean with those 2 observations**.\n",
    "We can use Numpy's *median* method to retrieve it."
   ]
  },
  {
   "cell_type": "code",
   "execution_count": 4,
   "metadata": {
    "collapsed": false
   },
   "outputs": [
    {
     "name": "stdout",
     "output_type": "stream",
     "text": [
      "Median with Numpy: 29.3093275 in 0.0005476474761962891 seconds\n"
     ]
    }
   ],
   "source": [
    "start = time()\n",
    "median = np.median(ex1_data['Adj Close'])\n",
    "total = time() - start\n",
    "\n",
    "print('Median with Numpy:', median, 'in', total, 'seconds')"
   ]
  },
  {
   "cell_type": "markdown",
   "metadata": {},
   "source": [
    "## Outliers:\n",
    "\n",
    "If one of the elements in the data has an extremely high or low value it is called an **outlier** and will make the average and the median to grow considerably distand from each other. Let's try adding 100 random outliers with floating point values ranging from 1 to 10."
   ]
  },
  {
   "cell_type": "code",
   "execution_count": 144,
   "metadata": {
    "collapsed": false
   },
   "outputs": [
    {
     "name": "stdout",
     "output_type": "stream",
     "text": [
      "Our collection is of type  <class 'pandas.core.series.Series'> \n",
      "so we need to create an outlier of the same type with pd.Series() method\n",
      "\n",
      "\n",
      "Original Average: 29.2846511357 , original Median: 29.3093275\n",
      "Mean w/outliers: 19.8901980594 , median wo/outliers: 27.551777\n"
     ]
    }
   ],
   "source": [
    "import random\n",
    "\n",
    "aux_series = ex1_data['Adj Close']\n",
    "print('Our collection is of type ', \n",
    "      type(aux_series), \n",
    "      '\\nso we need to create an outlier of the same type with pd.Series() method\\n')\n",
    "\n",
    "outlier = pd.Series([random.uniform(1, 10)] * 100, index=[date.today()] * 100)\n",
    "aux_series = aux_series.append(outlier)\n",
    "\n",
    "aux_avg = np.mean(aux_series)\n",
    "aux_mdn = np.median(aux_series)\n",
    "print('\\nOriginal Average:', avg, ', original Median:', median)\n",
    "print('Mean w/outliers:', aux_avg, ', median wo/outliers:', aux_mdn)"
   ]
  },
  {
   "cell_type": "markdown",
   "metadata": {},
   "source": [
    "### A wizard once said...\n",
    "> The **average** or **sample mean** is pretty sensitive to the presence of extreme values and that makes the **median** preferrable in that scenario.\n",
    "\n",
    "## Mode\n",
    "\n",
    "The **mode** is the most frequent value within a data set. It is relevant only in some situations because it could either:\n",
    "- Not exist (there are no repeated observations)\n",
    "- Is not placed at the center of the distribution (is not a measurement of **central tendency**)\n",
    "- It's not unique\n",
    "\n",
    "There is no direct support for finding the mode in Numpy, so we will make a tiny algorithm to get it from this dataset."
   ]
  },
  {
   "cell_type": "code",
   "execution_count": 145,
   "metadata": {
    "collapsed": false
   },
   "outputs": [
    {
     "name": "stdout",
     "output_type": "stream",
     "text": [
      "In this case mode: 27.17, sample mean: 29.28 and median: 29.31\n"
     ]
    }
   ],
   "source": [
    "# The underscore discards the returned value\n",
    "(_, idx, counts) = np.unique(ex1_data['Adj Close'], return_index=True, return_counts=True)\n",
    "# If len(np.argmax(counts)) not == 1 then discard the mode\n",
    "index = idx[np.argmax(counts)]\n",
    "mode = ex1_data['Adj Close'][index]\n",
    "print('In this case mode: {0}, sample mean: {1} and median: {2}'.format(mode.round(2), avg.round(2), median.round(2)))"
   ]
  },
  {
   "cell_type": "markdown",
   "metadata": {},
   "source": [
    "If we plot a **histogram** we can see that the mode is placed way off the center of the distribution. To discard the returned value as the mode of our data we can also check if is exists within the range of the **standard deviation** (more on this later)"
   ]
  },
  {
   "cell_type": "code",
   "execution_count": 146,
   "metadata": {
    "collapsed": false
   },
   "outputs": [
    {
     "name": "stdout",
     "output_type": "stream",
     "text": [
      "The mode 27.17 as a valid one is False\n"
     ]
    },
    {
     "data": {
      "image/png": "[encoded data removed]",
      "text/plain": [
       "<matplotlib.figure.Figure at 0x7f96d921b0b8>"
      ]
     },
     "metadata": {},
     "output_type": "display_data"
    }
   ],
   "source": [
    "n, bins, patches = plt.hist(sorted_df)\n",
    "\n",
    "stdev = np.std(sorted_df)\n",
    "maxim = avg + stdev\n",
    "minim = avg - stdev\n",
    "print('The mode {0} as a valid one is {1}'.format(mode.round(2), minim <= mode <= maxim))"
   ]
  },
  {
   "cell_type": "code",
   "execution_count": 210,
   "metadata": {
    "collapsed": false
   },
   "outputs": [
    {
     "data": {
      "text/plain": [
       "[<matplotlib.lines.Line2D at 0x7f96d88c5278>,\n",
       " <matplotlib.lines.Line2D at 0x7f96d88efe80>,\n",
       " <matplotlib.lines.Line2D at 0x7f96d88f30f0>]"
      ]
     },
     "execution_count": 210,
     "metadata": {},
     "output_type": "execute_result"
    },
    {
     "data": {
      "image/png": "[encoded data removed]",
      "text/plain": [
       "<matplotlib.figure.Figure at 0x7f96d894a208>"
      ]
     },
     "metadata": {},
     "output_type": "display_data"
    }
   ],
   "source": [
    "def bb_lo(x):\n",
    "    return np.mean(x) - np.std(x)\n",
    "\n",
    "def bb_hi(x):\n",
    "    return np.mean(x) + np.std(x)\n",
    "\n",
    "std = np.std(ex1_data['Adj Close'])\n",
    "bb_lo = ex1_data['Adj Close'].rolling(window=20).apply(bb_lo)\n",
    "bb_hi = ex1_data['Adj Close'].rolling(window=20).apply(bb_hi)\n",
    "ex1_data['bb-'] = bb_lo\n",
    "ex1_data['bb+'] = bb_hi\n",
    "plt.plot(ex1_data[['bb+','bb-', 'Adj Close']])"
   ]
  }
 ],
 "metadata": {
  "kernelspec": {
   "display_name": "Python 3",
   "language": "python",
   "name": "python3"
  },
  "language_info": {
   "codemirror_mode": {
    "name": "ipython",
    "version": 3
   },
   "file_extension": ".py",
   "mimetype": "text/x-python",
   "name": "python",
   "nbconvert_exporter": "python",
   "pygments_lexer": "ipython3",
   "version": "3.5.3"
  }
 },
 "nbformat": 4,
 "nbformat_minor": 2
}
